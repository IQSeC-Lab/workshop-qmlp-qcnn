{
 "cells": [
  {
   "cell_type": "code",
   "execution_count": 1,
   "id": "7d0c4bcc",
   "metadata": {},
   "outputs": [],
   "source": [
    "import pennylane as qml\n",
    "from pennylane import numpy as np\n",
    "import matplotlib.pyplot as plt\n",
    "import inspect"
   ]
  },
  {
   "cell_type": "code",
   "execution_count": 12,
   "id": "9dd86b02",
   "metadata": {},
   "outputs": [
    {
     "ename": "DeviceError",
     "evalue": "Device qiskit.aer does not exist. Make sure the required plugin is installed.",
     "output_type": "error",
     "traceback": [
      "\u001b[0;31m---------------------------------------------------------------------------\u001b[0m",
      "\u001b[0;31mDeviceError\u001b[0m                               Traceback (most recent call last)",
      "Cell \u001b[0;32mIn[12], line 2\u001b[0m\n\u001b[1;32m      1\u001b[0m n_qubits \u001b[38;5;241m=\u001b[39m \u001b[38;5;241m16\u001b[39m\n\u001b[0;32m----> 2\u001b[0m dev \u001b[38;5;241m=\u001b[39m \u001b[43mqml\u001b[49m\u001b[38;5;241;43m.\u001b[39;49m\u001b[43mdevice\u001b[49m\u001b[43m(\u001b[49m\u001b[38;5;124;43m\"\u001b[39;49m\u001b[38;5;124;43mqiskit.aer\u001b[39;49m\u001b[38;5;124;43m\"\u001b[39;49m\u001b[43m,\u001b[49m\u001b[43m \u001b[49m\u001b[43mwires\u001b[49m\u001b[38;5;241;43m=\u001b[39;49m\u001b[43mn_qubits\u001b[49m\u001b[43m)\u001b[49m\n",
      "File \u001b[0;32m~/.pyenv/versions/3.10.12/lib/python3.10/site-packages/pennylane/devices/device_constructor.py:287\u001b[0m, in \u001b[0;36mdevice\u001b[0;34m(name, *args, **kwargs)\u001b[0m\n\u001b[1;32m    283\u001b[0m         dev \u001b[38;5;241m=\u001b[39m qml\u001b[38;5;241m.\u001b[39mdevices\u001b[38;5;241m.\u001b[39mLegacyDeviceFacade(dev)\n\u001b[1;32m    285\u001b[0m     \u001b[38;5;28;01mreturn\u001b[39;00m dev\n\u001b[0;32m--> 287\u001b[0m \u001b[38;5;28;01mraise\u001b[39;00m qml\u001b[38;5;241m.\u001b[39mDeviceError(\n\u001b[1;32m    288\u001b[0m     \u001b[38;5;124mf\u001b[39m\u001b[38;5;124m\"\u001b[39m\u001b[38;5;124mDevice \u001b[39m\u001b[38;5;132;01m{\u001b[39;00mname\u001b[38;5;132;01m}\u001b[39;00m\u001b[38;5;124m does not exist. Make sure the required plugin is installed.\u001b[39m\u001b[38;5;124m\"\u001b[39m\n\u001b[1;32m    289\u001b[0m )\n",
      "\u001b[0;31mDeviceError\u001b[0m: Device qiskit.aer does not exist. Make sure the required plugin is installed."
     ]
    }
   ],
   "source": [
    "n_qubits = 16\n",
    "dev = qml.device(\"qiskit.aer\", wires=n_qubits)"
   ]
  },
  {
   "cell_type": "code",
   "execution_count": 13,
   "id": "48c1fb3a",
   "metadata": {},
   "outputs": [],
   "source": [
    "@qml.qnode(dev, interface=\"torch\")\n",
    "def qnode(inputs, conv1, entangle1, pool1, conv2, entangle2):\n",
    "    qml.AngleEmbedding(inputs, wires=range(n_qubits))\n",
    "    for i in range(n_qubits):\n",
    "        qml.Rot(*conv1[i], wires=i)\n",
    "    for i in range(n_qubits):\n",
    "        qml.CRX(entangle1[i][0], wires=[i, (i + 1) % n_qubits])\n",
    "    kept = list(range(0, n_qubits, 2))\n",
    "    for i, w in enumerate(kept):\n",
    "        qml.Rot(*pool1[i], wires=w)\n",
    "    for i, w in enumerate(kept):\n",
    "        qml.Rot(*conv2[i], wires=w)\n",
    "    for i in range(len(kept)):\n",
    "        qml.CRX(entangle2[i][0], wires=[kept[i], kept[(i + 1) % len(kept)]])\n",
    "    return [qml.expval(qml.PauliZ(q)) for q in kept[:4]]"
   ]
  },
  {
   "cell_type": "code",
   "execution_count": 14,
   "id": "025f1636",
   "metadata": {},
   "outputs": [],
   "source": [
    "weight_shapes = {\n",
    "    \"conv1\": (16, 3),\n",
    "    \"entangle1\": (16, 1),\n",
    "    \"pool1\": (8, 3),\n",
    "    \"conv2\": (8, 3),\n",
    "    \"entangle2\": (8, 1),\n",
    "}"
   ]
  },
  {
   "cell_type": "code",
   "execution_count": 15,
   "id": "4c247ba1",
   "metadata": {},
   "outputs": [],
   "source": [
    "dummy_input = np.zeros(16, dtype=np.float32)\n",
    "dummy_weights = []\n",
    "for name in inspect.signature(qnode).parameters:\n",
    "    if name == \"inputs\":\n",
    "        continue\n",
    "    shape = weight_shapes[name]\n",
    "    dummy_weights.append(np.zeros(shape, dtype=np.float32))"
   ]
  },
  {
   "cell_type": "code",
   "execution_count": 16,
   "id": "4d1feef2",
   "metadata": {},
   "outputs": [
    {
     "name": "stderr",
     "output_type": "stream",
     "text": [
      "/Users/lopez/.pyenv/versions/3.10.12/lib/python3.10/site-packages/pennylane/math/interface_utils.py:136: UserWarning: Contains tensors of types {'torch', 'autograd'}; dispatch will prioritize TensorFlow, PyTorch, and Jax over Autograd. Consider replacing Autograd with vanilla NumPy.\n",
      "  warnings.warn(\n"
     ]
    },
    {
     "ename": "AttributeError",
     "evalue": "DefaultQubit has no attribute '_circuit'. You may be looking for a property or method present in the legacy device interface. Please consult the DefaultQubit documentation for an updated list of public properties and methods.",
     "output_type": "error",
     "traceback": [
      "\u001b[0;31m---------------------------------------------------------------------------\u001b[0m",
      "\u001b[0;31mAttributeError\u001b[0m                            Traceback (most recent call last)",
      "Cell \u001b[0;32mIn[16], line 5\u001b[0m\n\u001b[1;32m      2\u001b[0m qnode(dummy_input, \u001b[38;5;241m*\u001b[39mdummy_weights)\n\u001b[1;32m      4\u001b[0m \u001b[38;5;66;03m# Now draw it with Qiskit's drawer\u001b[39;00m\n\u001b[0;32m----> 5\u001b[0m circuit_diagram \u001b[38;5;241m=\u001b[39m \u001b[43mdev\u001b[49m\u001b[38;5;241;43m.\u001b[39;49m\u001b[43m_circuit\u001b[49m\u001b[38;5;241m.\u001b[39mdraw(output\u001b[38;5;241m=\u001b[39m\u001b[38;5;124m\"\u001b[39m\u001b[38;5;124mmpl\u001b[39m\u001b[38;5;124m\"\u001b[39m)\n\u001b[1;32m      7\u001b[0m \u001b[38;5;66;03m# Save to file\u001b[39;00m\n\u001b[1;32m      8\u001b[0m circuit_diagram\u001b[38;5;241m.\u001b[39msavefig(\u001b[38;5;124m\"\u001b[39m\u001b[38;5;124mqcnn_circuit_qiskit_style.pdf\u001b[39m\u001b[38;5;124m\"\u001b[39m, bbox_inches\u001b[38;5;241m=\u001b[39m\u001b[38;5;124m\"\u001b[39m\u001b[38;5;124mtight\u001b[39m\u001b[38;5;124m\"\u001b[39m)\n",
      "File \u001b[0;32m~/.pyenv/versions/3.10.12/lib/python3.10/site-packages/pennylane/devices/device_api.py:211\u001b[0m, in \u001b[0;36mDevice.__getattr__\u001b[0;34m(self, key)\u001b[0m\n\u001b[1;32m    210\u001b[0m \u001b[38;5;28;01mdef\u001b[39;00m\u001b[38;5;250m \u001b[39m\u001b[38;5;21m__getattr__\u001b[39m(\u001b[38;5;28mself\u001b[39m, key):\n\u001b[0;32m--> 211\u001b[0m     \u001b[38;5;28;01mraise\u001b[39;00m \u001b[38;5;167;01mAttributeError\u001b[39;00m(\n\u001b[1;32m    212\u001b[0m         \u001b[38;5;124mf\u001b[39m\u001b[38;5;124m\"\u001b[39m\u001b[38;5;132;01m{\u001b[39;00m\u001b[38;5;28mtype\u001b[39m(\u001b[38;5;28mself\u001b[39m)\u001b[38;5;241m.\u001b[39m\u001b[38;5;18m__name__\u001b[39m\u001b[38;5;132;01m}\u001b[39;00m\u001b[38;5;124m has no attribute \u001b[39m\u001b[38;5;124m'\u001b[39m\u001b[38;5;132;01m{\u001b[39;00mkey\u001b[38;5;132;01m}\u001b[39;00m\u001b[38;5;124m'\u001b[39m\u001b[38;5;124m.\u001b[39m\u001b[38;5;124m\"\u001b[39m\n\u001b[1;32m    213\u001b[0m         \u001b[38;5;124m\"\u001b[39m\u001b[38;5;124m You may be looking for a property or method present in the legacy device interface.\u001b[39m\u001b[38;5;124m\"\u001b[39m\n\u001b[1;32m    214\u001b[0m         \u001b[38;5;124mf\u001b[39m\u001b[38;5;124m\"\u001b[39m\u001b[38;5;124m Please consult the \u001b[39m\u001b[38;5;132;01m{\u001b[39;00m\u001b[38;5;28mtype\u001b[39m(\u001b[38;5;28mself\u001b[39m)\u001b[38;5;241m.\u001b[39m\u001b[38;5;18m__name__\u001b[39m\u001b[38;5;132;01m}\u001b[39;00m\u001b[38;5;124m documentation for an updated list of public\u001b[39m\u001b[38;5;124m\"\u001b[39m\n\u001b[1;32m    215\u001b[0m         \u001b[38;5;124m\"\u001b[39m\u001b[38;5;124m properties and methods.\u001b[39m\u001b[38;5;124m\"\u001b[39m\n\u001b[1;32m    216\u001b[0m     )\n",
      "\u001b[0;31mAttributeError\u001b[0m: DefaultQubit has no attribute '_circuit'. You may be looking for a property or method present in the legacy device interface. Please consult the DefaultQubit documentation for an updated list of public properties and methods."
     ]
    }
   ],
   "source": [
    "# Call the circuit to populate dev._circuit\n",
    "qnode(dummy_input, *dummy_weights)\n",
    "\n",
    "# Now draw it with Qiskit's drawer\n",
    "circuit_diagram = dev._circuit.draw(output=\"mpl\")\n",
    "\n",
    "# Save to file\n",
    "circuit_diagram.savefig(\"qcnn_circuit_qiskit_style.pdf\", bbox_inches=\"tight\")\n",
    "plt.show()\n"
   ]
  },
  {
   "cell_type": "code",
   "execution_count": null,
   "id": "61f3fdae",
   "metadata": {},
   "outputs": [],
   "source": []
  },
  {
   "cell_type": "code",
   "execution_count": null,
   "id": "9d52d734",
   "metadata": {},
   "outputs": [],
   "source": []
  }
 ],
 "metadata": {
  "kernelspec": {
   "display_name": "3.10.12",
   "language": "python",
   "name": "python3"
  },
  "language_info": {
   "codemirror_mode": {
    "name": "ipython",
    "version": 3
   },
   "file_extension": ".py",
   "mimetype": "text/x-python",
   "name": "python",
   "nbconvert_exporter": "python",
   "pygments_lexer": "ipython3",
   "version": "3.10.12"
  }
 },
 "nbformat": 4,
 "nbformat_minor": 5
}
